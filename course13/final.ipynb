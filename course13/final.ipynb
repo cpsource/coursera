{
  "nbformat": 4,
  "nbformat_minor": 0,
  "metadata": {
    "colab": {
      "provenance": []
    },
    "kernelspec": {
      "name": "python3",
      "display_name": "Python 3"
    },
    "language_info": {
      "name": "python"
    }
  },
  "cells": [
    {
      "cell_type": "markdown",
      "source": [
        "## Final Exam"
      ],
      "metadata": {
        "id": "17fwjiLlROkE"
      }
    },
    {
      "cell_type": "code",
      "execution_count": 2,
      "metadata": {
        "colab": {
          "base_uri": "https://localhost:8080/"
        },
        "id": "A_0-VX4eQdbm",
        "outputId": "e05177e3-6b5a-4db3-90f2-49f2e54ba2ef"
      },
      "outputs": [
        {
          "output_type": "stream",
          "name": "stdout",
          "text": [
            "Requirement already satisfied: aiofiles==23.2.1 in /usr/local/lib/python3.11/dist-packages (from -r requirements.txt (line 7)) (23.2.1)\n",
            "Requirement already satisfied: aiohappyeyeballs==2.6.1 in /usr/local/lib/python3.11/dist-packages (from -r requirements.txt (line 9)) (2.6.1)\n",
            "Requirement already satisfied: aiohttp==3.12.13 in /usr/local/lib/python3.11/dist-packages (from -r requirements.txt (line 11)) (3.12.13)\n",
            "Requirement already satisfied: aiosignal==1.3.2 in /usr/local/lib/python3.11/dist-packages (from -r requirements.txt (line 15)) (1.3.2)\n",
            "Requirement already satisfied: annotated-types==0.7.0 in /usr/local/lib/python3.11/dist-packages (from -r requirements.txt (line 17)) (0.7.0)\n",
            "Requirement already satisfied: anyio==4.9.0 in /usr/local/lib/python3.11/dist-packages (from -r requirements.txt (line 19)) (4.9.0)\n",
            "Requirement already satisfied: asgiref==3.8.1 in /usr/local/lib/python3.11/dist-packages (from -r requirements.txt (line 25)) (3.8.1)\n",
            "Requirement already satisfied: attrs==25.3.0 in /usr/local/lib/python3.11/dist-packages (from -r requirements.txt (line 27)) (25.3.0)\n",
            "Requirement already satisfied: backoff==2.2.1 in /usr/local/lib/python3.11/dist-packages (from -r requirements.txt (line 29)) (2.2.1)\n",
            "Requirement already satisfied: bcrypt==4.3.0 in /usr/local/lib/python3.11/dist-packages (from -r requirements.txt (line 31)) (4.3.0)\n",
            "Requirement already satisfied: build==1.2.2.post1 in /usr/local/lib/python3.11/dist-packages (from -r requirements.txt (line 33)) (1.2.2.post1)\n",
            "Requirement already satisfied: cachetools==5.5.2 in /usr/local/lib/python3.11/dist-packages (from -r requirements.txt (line 35)) (5.5.2)\n",
            "Requirement already satisfied: certifi==2025.6.15 in /usr/local/lib/python3.11/dist-packages (from -r requirements.txt (line 37)) (2025.6.15)\n",
            "Requirement already satisfied: charset-normalizer==3.4.2 in /usr/local/lib/python3.11/dist-packages (from -r requirements.txt (line 45)) (3.4.2)\n",
            "Requirement already satisfied: chroma-hnswlib==0.7.3 in /usr/local/lib/python3.11/dist-packages (from -r requirements.txt (line 47)) (0.7.3)\n",
            "Requirement already satisfied: chromadb==0.4.24 in /usr/local/lib/python3.11/dist-packages (from -r requirements.txt (line 49)) (0.4.24)\n",
            "Requirement already satisfied: click==8.2.1 in /usr/local/lib/python3.11/dist-packages (from -r requirements.txt (line 51)) (8.2.1)\n",
            "Requirement already satisfied: coloredlogs==15.0.1 in /usr/local/lib/python3.11/dist-packages (from -r requirements.txt (line 55)) (15.0.1)\n",
            "Requirement already satisfied: contourpy==1.3.2 in /usr/local/lib/python3.11/dist-packages (from -r requirements.txt (line 57)) (1.3.2)\n",
            "Requirement already satisfied: cycler==0.12.1 in /usr/local/lib/python3.11/dist-packages (from -r requirements.txt (line 59)) (0.12.1)\n",
            "Requirement already satisfied: dataclasses-json==0.6.7 in /usr/local/lib/python3.11/dist-packages (from -r requirements.txt (line 61)) (0.6.7)\n",
            "Requirement already satisfied: distro==1.9.0 in /usr/local/lib/python3.11/dist-packages (from -r requirements.txt (line 63)) (1.9.0)\n",
            "Requirement already satisfied: durationpy==0.10 in /usr/local/lib/python3.11/dist-packages (from -r requirements.txt (line 65)) (0.10)\n",
            "Requirement already satisfied: fastapi==0.115.13 in /usr/local/lib/python3.11/dist-packages (from -r requirements.txt (line 67)) (0.115.13)\n",
            "Requirement already satisfied: ffmpy==0.6.0 in /usr/local/lib/python3.11/dist-packages (from -r requirements.txt (line 71)) (0.6.0)\n",
            "Requirement already satisfied: filelock==3.18.0 in /usr/local/lib/python3.11/dist-packages (from -r requirements.txt (line 73)) (3.18.0)\n",
            "Requirement already satisfied: flatbuffers==25.2.10 in /usr/local/lib/python3.11/dist-packages (from -r requirements.txt (line 75)) (25.2.10)\n",
            "Requirement already satisfied: fonttools==4.58.4 in /usr/local/lib/python3.11/dist-packages (from -r requirements.txt (line 77)) (4.58.4)\n",
            "Requirement already satisfied: frozenlist==1.7.0 in /usr/local/lib/python3.11/dist-packages (from -r requirements.txt (line 79)) (1.7.0)\n",
            "Requirement already satisfied: fsspec==2025.5.1 in /usr/local/lib/python3.11/dist-packages (from -r requirements.txt (line 83)) (2025.5.1)\n",
            "Requirement already satisfied: google-auth==2.40.3 in /usr/local/lib/python3.11/dist-packages (from -r requirements.txt (line 88)) (2.40.3)\n",
            "Requirement already satisfied: googleapis-common-protos==1.70.0 in /usr/local/lib/python3.11/dist-packages (from -r requirements.txt (line 92)) (1.70.0)\n",
            "Requirement already satisfied: gradio==4.44.0 in /usr/local/lib/python3.11/dist-packages (from -r requirements.txt (line 94)) (4.44.0)\n",
            "Requirement already satisfied: gradio-client==1.3.0 in /usr/local/lib/python3.11/dist-packages (from -r requirements.txt (line 96)) (1.3.0)\n",
            "Requirement already satisfied: greenlet==3.2.3 in /usr/local/lib/python3.11/dist-packages (from -r requirements.txt (line 98)) (3.2.3)\n",
            "Requirement already satisfied: grpcio==1.73.0 in /usr/local/lib/python3.11/dist-packages (from -r requirements.txt (line 100)) (1.73.0)\n",
            "Requirement already satisfied: h11==0.16.0 in /usr/local/lib/python3.11/dist-packages (from -r requirements.txt (line 104)) (0.16.0)\n",
            "Requirement already satisfied: hf-xet==1.1.5 in /usr/local/lib/python3.11/dist-packages (from -r requirements.txt (line 108)) (1.1.5)\n",
            "Requirement already satisfied: httpcore==1.0.9 in /usr/local/lib/python3.11/dist-packages (from -r requirements.txt (line 110)) (1.0.9)\n",
            "Requirement already satisfied: httptools==0.6.4 in /usr/local/lib/python3.11/dist-packages (from -r requirements.txt (line 112)) (0.6.4)\n",
            "Requirement already satisfied: httpx==0.28.1 in /usr/local/lib/python3.11/dist-packages (from -r requirements.txt (line 114)) (0.28.1)\n",
            "Requirement already satisfied: huggingface-hub==0.33.0 in /usr/local/lib/python3.11/dist-packages (from -r requirements.txt (line 119)) (0.33.0)\n",
            "Requirement already satisfied: humanfriendly==10.0 in /usr/local/lib/python3.11/dist-packages (from -r requirements.txt (line 124)) (10.0)\n",
            "Requirement already satisfied: ibm-cos-sdk==2.13.6 in /usr/local/lib/python3.11/dist-packages (from -r requirements.txt (line 126)) (2.13.6)\n",
            "Requirement already satisfied: ibm-cos-sdk-core==2.13.6 in /usr/local/lib/python3.11/dist-packages (from -r requirements.txt (line 128)) (2.13.6)\n",
            "Requirement already satisfied: ibm-cos-sdk-s3transfer==2.13.6 in /usr/local/lib/python3.11/dist-packages (from -r requirements.txt (line 132)) (2.13.6)\n",
            "Requirement already satisfied: ibm-watsonx-ai==1.1.2 in /usr/local/lib/python3.11/dist-packages (from -r requirements.txt (line 134)) (1.1.2)\n",
            "Requirement already satisfied: idna==3.10 in /usr/local/lib/python3.11/dist-packages (from -r requirements.txt (line 138)) (3.10)\n",
            "Requirement already satisfied: importlib-metadata==8.7.0 in /usr/local/lib/python3.11/dist-packages (from -r requirements.txt (line 144)) (8.7.0)\n",
            "Requirement already satisfied: importlib-resources==6.5.2 in /usr/local/lib/python3.11/dist-packages (from -r requirements.txt (line 148)) (6.5.2)\n",
            "Collecting jedi==0.19.2 (from -r requirements.txt (line 152))\n",
            "  Downloading jedi-0.19.2-py2.py3-none-any.whl.metadata (22 kB)\n",
            "Requirement already satisfied: jinja2==3.1.6 in /usr/local/lib/python3.11/dist-packages (from -r requirements.txt (line 154)) (3.1.6)\n",
            "Requirement already satisfied: jmespath==1.0.1 in /usr/local/lib/python3.11/dist-packages (from -r requirements.txt (line 156)) (1.0.1)\n",
            "Requirement already satisfied: jsonpatch==1.33 in /usr/local/lib/python3.11/dist-packages (from -r requirements.txt (line 160)) (1.33)\n",
            "Requirement already satisfied: jsonpointer==3.0.0 in /usr/local/lib/python3.11/dist-packages (from -r requirements.txt (line 162)) (3.0.0)\n",
            "Requirement already satisfied: kiwisolver==1.4.8 in /usr/local/lib/python3.11/dist-packages (from -r requirements.txt (line 164)) (1.4.8)\n",
            "Requirement already satisfied: kubernetes==33.1.0 in /usr/local/lib/python3.11/dist-packages (from -r requirements.txt (line 166)) (33.1.0)\n",
            "Requirement already satisfied: langchain==0.2.11 in /usr/local/lib/python3.11/dist-packages (from -r requirements.txt (line 168)) (0.2.11)\n",
            "Requirement already satisfied: langchain-community==0.2.10 in /usr/local/lib/python3.11/dist-packages (from -r requirements.txt (line 172)) (0.2.10)\n",
            "Requirement already satisfied: langchain-core==0.2.43 in /usr/local/lib/python3.11/dist-packages (from -r requirements.txt (line 174)) (0.2.43)\n",
            "Requirement already satisfied: langchain-ibm==0.1.11 in /usr/local/lib/python3.11/dist-packages (from -r requirements.txt (line 180)) (0.1.11)\n",
            "Requirement already satisfied: langchain-text-splitters==0.2.4 in /usr/local/lib/python3.11/dist-packages (from -r requirements.txt (line 182)) (0.2.4)\n",
            "Requirement already satisfied: langsmith==0.1.147 in /usr/local/lib/python3.11/dist-packages (from -r requirements.txt (line 184)) (0.1.147)\n",
            "Requirement already satisfied: lomond==0.3.3 in /usr/local/lib/python3.11/dist-packages (from -r requirements.txt (line 189)) (0.3.3)\n",
            "Requirement already satisfied: markdown-it-py==3.0.0 in /usr/local/lib/python3.11/dist-packages (from -r requirements.txt (line 191)) (3.0.0)\n",
            "Requirement already satisfied: markupsafe==2.1.5 in /usr/local/lib/python3.11/dist-packages (from -r requirements.txt (line 193)) (2.1.5)\n",
            "Requirement already satisfied: marshmallow==3.26.1 in /usr/local/lib/python3.11/dist-packages (from -r requirements.txt (line 197)) (3.26.1)\n",
            "Requirement already satisfied: matplotlib==3.10.3 in /usr/local/lib/python3.11/dist-packages (from -r requirements.txt (line 199)) (3.10.3)\n",
            "Requirement already satisfied: mdurl==0.1.2 in /usr/local/lib/python3.11/dist-packages (from -r requirements.txt (line 201)) (0.1.2)\n",
            "Requirement already satisfied: mmh3==5.1.0 in /usr/local/lib/python3.11/dist-packages (from -r requirements.txt (line 203)) (5.1.0)\n",
            "Requirement already satisfied: mpmath==1.3.0 in /usr/local/lib/python3.11/dist-packages (from -r requirements.txt (line 205)) (1.3.0)\n",
            "Requirement already satisfied: multidict==6.5.0 in /usr/local/lib/python3.11/dist-packages (from -r requirements.txt (line 207)) (6.5.0)\n",
            "Requirement already satisfied: mypy-extensions==1.1.0 in /usr/local/lib/python3.11/dist-packages (from -r requirements.txt (line 211)) (1.1.0)\n",
            "Requirement already satisfied: numpy==1.26.4 in /usr/local/lib/python3.11/dist-packages (from -r requirements.txt (line 213)) (1.26.4)\n",
            "Requirement already satisfied: oauthlib==3.3.1 in /usr/local/lib/python3.11/dist-packages (from -r requirements.txt (line 225)) (3.3.1)\n",
            "Requirement already satisfied: onnxruntime==1.22.0 in /usr/local/lib/python3.11/dist-packages (from -r requirements.txt (line 229)) (1.22.0)\n",
            "Requirement already satisfied: opentelemetry-api==1.34.1 in /usr/local/lib/python3.11/dist-packages (from -r requirements.txt (line 231)) (1.34.1)\n",
            "Requirement already satisfied: opentelemetry-exporter-otlp-proto-common==1.34.1 in /usr/local/lib/python3.11/dist-packages (from -r requirements.txt (line 240)) (1.34.1)\n",
            "Requirement already satisfied: opentelemetry-exporter-otlp-proto-grpc==1.34.1 in /usr/local/lib/python3.11/dist-packages (from -r requirements.txt (line 242)) (1.34.1)\n",
            "Requirement already satisfied: opentelemetry-instrumentation==0.55b1 in /usr/local/lib/python3.11/dist-packages (from -r requirements.txt (line 244)) (0.55b1)\n",
            "Requirement already satisfied: opentelemetry-instrumentation-asgi==0.55b1 in /usr/local/lib/python3.11/dist-packages (from -r requirements.txt (line 248)) (0.55b1)\n",
            "Requirement already satisfied: opentelemetry-instrumentation-fastapi==0.55b1 in /usr/local/lib/python3.11/dist-packages (from -r requirements.txt (line 250)) (0.55b1)\n",
            "Requirement already satisfied: opentelemetry-proto==1.34.1 in /usr/local/lib/python3.11/dist-packages (from -r requirements.txt (line 252)) (1.34.1)\n",
            "Requirement already satisfied: opentelemetry-sdk==1.34.1 in /usr/local/lib/python3.11/dist-packages (from -r requirements.txt (line 256)) (1.34.1)\n",
            "Requirement already satisfied: opentelemetry-semantic-conventions==0.55b1 in /usr/local/lib/python3.11/dist-packages (from -r requirements.txt (line 260)) (0.55b1)\n",
            "Requirement already satisfied: opentelemetry-util-http==0.55b1 in /usr/local/lib/python3.11/dist-packages (from -r requirements.txt (line 266)) (0.55b1)\n",
            "Requirement already satisfied: orjson==3.10.18 in /usr/local/lib/python3.11/dist-packages (from -r requirements.txt (line 270)) (3.10.18)\n",
            "Requirement already satisfied: overrides==7.7.0 in /usr/local/lib/python3.11/dist-packages (from -r requirements.txt (line 275)) (7.7.0)\n",
            "Requirement already satisfied: packaging==24.2 in /usr/local/lib/python3.11/dist-packages (from -r requirements.txt (line 277)) (24.2)\n",
            "Requirement already satisfied: pandas==2.1.4 in /usr/local/lib/python3.11/dist-packages (from -r requirements.txt (line 289)) (2.1.4)\n",
            "Requirement already satisfied: parso==0.8.4 in /usr/local/lib/python3.11/dist-packages (from -r requirements.txt (line 294)) (0.8.4)\n",
            "Requirement already satisfied: pillow==10.4.0 in /usr/local/lib/python3.11/dist-packages (from -r requirements.txt (line 296)) (10.4.0)\n",
            "Requirement already satisfied: posthog==5.4.0 in /usr/local/lib/python3.11/dist-packages (from -r requirements.txt (line 300)) (5.4.0)\n",
            "Requirement already satisfied: propcache==0.3.2 in /usr/local/lib/python3.11/dist-packages (from -r requirements.txt (line 302)) (0.3.2)\n",
            "Requirement already satisfied: protobuf==5.29.5 in /usr/local/lib/python3.11/dist-packages (from -r requirements.txt (line 306)) (5.29.5)\n",
            "Requirement already satisfied: pulsar-client==3.7.0 in /usr/local/lib/python3.11/dist-packages (from -r requirements.txt (line 311)) (3.7.0)\n",
            "Requirement already satisfied: pyasn1==0.6.1 in /usr/local/lib/python3.11/dist-packages (from -r requirements.txt (line 313)) (0.6.1)\n",
            "Requirement already satisfied: pyasn1-modules==0.4.2 in /usr/local/lib/python3.11/dist-packages (from -r requirements.txt (line 317)) (0.4.2)\n",
            "Requirement already satisfied: pydantic==2.9.1 in /usr/local/lib/python3.11/dist-packages (from -r requirements.txt (line 319)) (2.9.1)\n",
            "Requirement already satisfied: pydantic-core==2.23.3 in /usr/local/lib/python3.11/dist-packages (from -r requirements.txt (line 328)) (2.23.3)\n",
            "Requirement already satisfied: pydub==0.25.1 in /usr/local/lib/python3.11/dist-packages (from -r requirements.txt (line 330)) (0.25.1)\n",
            "Requirement already satisfied: pygments==2.19.2 in /usr/local/lib/python3.11/dist-packages (from -r requirements.txt (line 332)) (2.19.2)\n",
            "Requirement already satisfied: pyparsing==3.2.3 in /usr/local/lib/python3.11/dist-packages (from -r requirements.txt (line 334)) (3.2.3)\n",
            "Requirement already satisfied: pypdf==4.3.1 in /usr/local/lib/python3.11/dist-packages (from -r requirements.txt (line 336)) (4.3.1)\n",
            "Requirement already satisfied: pypika==0.48.9 in /usr/local/lib/python3.11/dist-packages (from -r requirements.txt (line 338)) (0.48.9)\n",
            "Requirement already satisfied: pyproject-hooks==1.2.0 in /usr/local/lib/python3.11/dist-packages (from -r requirements.txt (line 340)) (1.2.0)\n",
            "Requirement already satisfied: python-dateutil==2.9.0.post0 in /usr/local/lib/python3.11/dist-packages (from -r requirements.txt (line 342)) (2.9.0.post0)\n",
            "Requirement already satisfied: python-dotenv==1.1.0 in /usr/local/lib/python3.11/dist-packages (from -r requirements.txt (line 349)) (1.1.0)\n",
            "Requirement already satisfied: python-multipart==0.0.20 in /usr/local/lib/python3.11/dist-packages (from -r requirements.txt (line 351)) (0.0.20)\n",
            "Requirement already satisfied: pytz==2025.2 in /usr/local/lib/python3.11/dist-packages (from -r requirements.txt (line 353)) (2025.2)\n",
            "Requirement already satisfied: pyyaml==6.0.2 in /usr/local/lib/python3.11/dist-packages (from -r requirements.txt (line 355)) (6.0.2)\n",
            "Requirement already satisfied: requests==2.32.2 in /usr/local/lib/python3.11/dist-packages (from -r requirements.txt (line 365)) (2.32.2)\n",
            "Requirement already satisfied: requests-oauthlib==2.0.0 in /usr/local/lib/python3.11/dist-packages (from -r requirements.txt (line 379)) (2.0.0)\n",
            "Requirement already satisfied: requests-toolbelt==1.0.0 in /usr/local/lib/python3.11/dist-packages (from -r requirements.txt (line 381)) (1.0.0)\n",
            "Requirement already satisfied: rich==14.0.0 in /usr/local/lib/python3.11/dist-packages (from -r requirements.txt (line 383)) (14.0.0)\n",
            "Requirement already satisfied: rsa==4.9.1 in /usr/local/lib/python3.11/dist-packages (from -r requirements.txt (line 387)) (4.9.1)\n",
            "Requirement already satisfied: ruff==0.12.0 in /usr/local/lib/python3.11/dist-packages (from -r requirements.txt (line 389)) (0.12.0)\n",
            "Requirement already satisfied: semantic-version==2.10.0 in /usr/local/lib/python3.11/dist-packages (from -r requirements.txt (line 391)) (2.10.0)\n",
            "Requirement already satisfied: shellingham==1.5.4 in /usr/local/lib/python3.11/dist-packages (from -r requirements.txt (line 393)) (1.5.4)\n",
            "Requirement already satisfied: six==1.17.0 in /usr/local/lib/python3.11/dist-packages (from -r requirements.txt (line 395)) (1.17.0)\n",
            "Requirement already satisfied: sniffio==1.3.1 in /usr/local/lib/python3.11/dist-packages (from -r requirements.txt (line 401)) (1.3.1)\n",
            "Requirement already satisfied: sqlalchemy==2.0.41 in /usr/local/lib/python3.11/dist-packages (from -r requirements.txt (line 403)) (2.0.41)\n",
            "Requirement already satisfied: starlette==0.46.2 in /usr/local/lib/python3.11/dist-packages (from -r requirements.txt (line 407)) (0.46.2)\n",
            "Requirement already satisfied: sympy==1.14.0 in /usr/local/lib/python3.11/dist-packages (from -r requirements.txt (line 409)) (1.14.0)\n",
            "Requirement already satisfied: tabulate==0.9.0 in /usr/local/lib/python3.11/dist-packages (from -r requirements.txt (line 413)) (0.9.0)\n",
            "Requirement already satisfied: tenacity==8.5.0 in /usr/local/lib/python3.11/dist-packages (from -r requirements.txt (line 415)) (8.5.0)\n",
            "Requirement already satisfied: tokenizers==0.21.1 in /usr/local/lib/python3.11/dist-packages (from -r requirements.txt (line 421)) (0.21.1)\n",
            "Requirement already satisfied: tomlkit==0.12.0 in /usr/local/lib/python3.11/dist-packages (from -r requirements.txt (line 423)) (0.12.0)\n",
            "Requirement already satisfied: tqdm==4.67.1 in /usr/local/lib/python3.11/dist-packages (from -r requirements.txt (line 425)) (4.67.1)\n",
            "Requirement already satisfied: typer==0.16.0 in /usr/local/lib/python3.11/dist-packages (from -r requirements.txt (line 429)) (0.16.0)\n",
            "Requirement already satisfied: typing-extensions==4.14.0 in /usr/local/lib/python3.11/dist-packages (from -r requirements.txt (line 433)) (4.14.0)\n",
            "Requirement already satisfied: typing-inspect==0.9.0 in /usr/local/lib/python3.11/dist-packages (from -r requirements.txt (line 451)) (0.9.0)\n",
            "Requirement already satisfied: tzdata==2025.2 in /usr/local/lib/python3.11/dist-packages (from -r requirements.txt (line 453)) (2025.2)\n",
            "Requirement already satisfied: urllib3==2.5.0 in /usr/local/lib/python3.11/dist-packages (from -r requirements.txt (line 455)) (2.5.0)\n",
            "Requirement already satisfied: uvicorn==0.34.3 in /usr/local/lib/python3.11/dist-packages (from uvicorn[standard]==0.34.3->-r requirements.txt (line 462)) (0.34.3)\n",
            "Requirement already satisfied: uvloop==0.21.0 in /usr/local/lib/python3.11/dist-packages (from -r requirements.txt (line 466)) (0.21.0)\n",
            "Requirement already satisfied: watchfiles==1.1.0 in /usr/local/lib/python3.11/dist-packages (from -r requirements.txt (line 468)) (1.1.0)\n",
            "Requirement already satisfied: websocket-client==1.8.0 in /usr/local/lib/python3.11/dist-packages (from -r requirements.txt (line 470)) (1.8.0)\n",
            "Requirement already satisfied: websockets==12.0 in /usr/local/lib/python3.11/dist-packages (from -r requirements.txt (line 472)) (12.0)\n",
            "Requirement already satisfied: wrapt==1.17.2 in /usr/local/lib/python3.11/dist-packages (from -r requirements.txt (line 477)) (1.17.2)\n",
            "Requirement already satisfied: yarl==1.20.1 in /usr/local/lib/python3.11/dist-packages (from -r requirements.txt (line 479)) (1.20.1)\n",
            "Requirement already satisfied: zipp==3.23.0 in /usr/local/lib/python3.11/dist-packages (from -r requirements.txt (line 481)) (3.23.0)\n",
            "Downloading jedi-0.19.2-py2.py3-none-any.whl (1.6 MB)\n",
            "\u001b[2K   \u001b[90m━━━━━━━━━━━━━━━━━━━━━━━━━━━━━━━━━━━━━━━━\u001b[0m \u001b[32m1.6/1.6 MB\u001b[0m \u001b[31m15.6 MB/s\u001b[0m eta \u001b[36m0:00:00\u001b[0m\n",
            "\u001b[?25hInstalling collected packages: jedi\n",
            "Successfully installed jedi-0.19.2\n"
          ]
        }
      ],
      "source": [
        "!pip install -r requirements.txt"
      ]
    },
    {
      "cell_type": "markdown",
      "source": [
        "# Import Libraries"
      ],
      "metadata": {
        "id": "PUsSVv_6TkVT"
      }
    },
    {
      "cell_type": "code",
      "source": [
        "from ibm_watsonx_ai.foundation_models import ModelInference\n",
        "from ibm_watsonx_ai.metanames import GenTextParamsMetaNames as GenParams\n",
        "from ibm_watsonx_ai.metanames import EmbedTextParamsMetaNames\n",
        "from ibm_watsonx_ai import Credentials\n",
        "from langchain_ibm import WatsonxLLM, WatsonxEmbeddings\n",
        "from langchain.text_splitter import RecursiveCharacterTextSplitter\n",
        "from langchain_community.vectorstores import Chroma\n",
        "from langchain_community.document_loaders import PyPDFLoader\n",
        "from langchain.chains import RetrievalQA\n",
        "import gradio as gr\n",
        "# You can use this section to suppress warnings generated by your code:\n",
        "def warn(*args, **kwargs):\n",
        "    pass\n",
        "import warnings\n",
        "warnings.warn = warn\n",
        "warnings.filterwarnings('ignore')"
      ],
      "metadata": {
        "id": "2D14-BoLToQi"
      },
      "execution_count": 3,
      "outputs": []
    },
    {
      "cell_type": "markdown",
      "source": [
        "# Initialize the LLM"
      ],
      "metadata": {
        "id": "iVy9AUz5TxS1"
      }
    },
    {
      "cell_type": "code",
      "source": [
        "# get keys and set them for use\n",
        "import os\n",
        "from getpass import getpass\n",
        "from google.colab import userdata\n",
        "\n",
        "ibm_api_key = userdata.get('IBM_API_KEY')\n",
        "ibm_project_id = userdata.get('IBM_PROJECT_ID')\n",
        "if not ibm_api_key or not ibm_project_id:\n",
        "  ibm_api_key = getpass('Please enter your IBM Watsonx API key (hit enter when done): ')\n",
        "else:\n",
        "  os.environ['IBM_API_KEY'] = ibm_api_key\n",
        "  os.environ['IBM_PROJECT_ID'] = ibm_project_id\n",
        "\n",
        "print(\"Set Keys\")"
      ],
      "metadata": {
        "colab": {
          "base_uri": "https://localhost:8080/"
        },
        "id": "frdy4_hYUHSz",
        "outputId": "4f77427c-085e-48c8-c1b3-246dde77a978"
      },
      "execution_count": 6,
      "outputs": [
        {
          "output_type": "stream",
          "name": "stdout",
          "text": [
            "Set Keys\n"
          ]
        }
      ]
    },
    {
      "cell_type": "code",
      "source": [
        "## LLM\n",
        "def get_llm():\n",
        "    model_id = 'mistralai/mixtral-8x7b-instruct-v01'\n",
        "    parameters = {\n",
        "        GenParams.MAX_NEW_TOKENS: 256,\n",
        "        GenParams.TEMPERATURE: 0.5,\n",
        "    }\n",
        "    project_id = \"skills-network\"\n",
        "    watsonx_llm = WatsonxLLM(\n",
        "        model_id=model_id,\n",
        "        url=\"https://us-south.ml.cloud.ibm.com\",\n",
        "        project_id=project_id,\n",
        "        params=parameters,\n",
        "    )\n",
        "    return watsonx_llm"
      ],
      "metadata": {
        "id": "d41IvVPQT1cJ"
      },
      "execution_count": 7,
      "outputs": []
    },
    {
      "cell_type": "markdown",
      "source": [
        "# Define the PDF document loader"
      ],
      "metadata": {
        "id": "EFWmXIl6WNrc"
      }
    },
    {
      "cell_type": "code",
      "source": [
        "## Document loader\n",
        "def document_loader(file):\n",
        "    loader = PyPDFLoader(file.name)\n",
        "    loaded_document = loader.load()\n",
        "    return loaded_document"
      ],
      "metadata": {
        "id": "isW9n_RSWQQ3"
      },
      "execution_count": 8,
      "outputs": []
    },
    {
      "cell_type": "markdown",
      "source": [
        "# Define the text splitter"
      ],
      "metadata": {
        "id": "Ew-UMzQWWXe4"
      }
    },
    {
      "cell_type": "code",
      "source": [
        "## Text splitter\n",
        "def text_splitter(data):\n",
        "    text_splitter = RecursiveCharacterTextSplitter(\n",
        "        chunk_size=1000,\n",
        "        chunk_overlap=50,\n",
        "        length_function=len,\n",
        "    )\n",
        "    chunks = text_splitter.split_documents(data)\n",
        "    return chunks"
      ],
      "metadata": {
        "id": "1hbXljbiWaFh"
      },
      "execution_count": 9,
      "outputs": []
    },
    {
      "cell_type": "markdown",
      "source": [
        "# Define the vector store"
      ],
      "metadata": {
        "id": "zS7ovHnSWhkn"
      }
    },
    {
      "cell_type": "code",
      "source": [
        "## Vector db\n",
        "def vector_database(chunks):\n",
        "    embedding_model = watsonx_embedding()\n",
        "    vectordb = Chroma.from_documents(chunks, embedding_model)\n",
        "    return vectordb\n"
      ],
      "metadata": {
        "id": "pCsn8ZLHWkxH"
      },
      "execution_count": 10,
      "outputs": []
    },
    {
      "cell_type": "markdown",
      "source": [
        "# Define the embedding model"
      ],
      "metadata": {
        "id": "ggzPqdHiWri5"
      }
    },
    {
      "cell_type": "code",
      "source": [
        "## Embedding model\n",
        "def watsonx_embedding():\n",
        "    embed_params = {\n",
        "        EmbedTextParamsMetaNames.TRUNCATE_INPUT_TOKENS: 3,\n",
        "        EmbedTextParamsMetaNames.RETURN_OPTIONS: {\"input_text\": True},\n",
        "    }\n",
        "    watsonx_embedding = WatsonxEmbeddings(\n",
        "        model_id=\"ibm/slate-125m-english-rtrvr\",\n",
        "        url=\"https://us-south.ml.cloud.ibm.com\",\n",
        "        project_id=ibm_project_id,\n",
        "        params=embed_params,\n",
        "    )\n",
        "    return watsonx_embedding"
      ],
      "metadata": {
        "id": "Q4YZssiLWtt_"
      },
      "execution_count": 12,
      "outputs": []
    },
    {
      "cell_type": "markdown",
      "source": [
        "# Define the retriever"
      ],
      "metadata": {
        "id": "kaCnaWcyW-zn"
      }
    },
    {
      "cell_type": "code",
      "source": [
        "## Retriever\n",
        "def retriever(file):\n",
        "    splits = document_loader(file)\n",
        "    chunks = text_splitter(splits)\n",
        "    vectordb = vector_database(chunks)\n",
        "    retriever = vectordb.as_retriever()\n",
        "    return retriever"
      ],
      "metadata": {
        "id": "_nYJUsrdXBJw"
      },
      "execution_count": 13,
      "outputs": []
    },
    {
      "cell_type": "markdown",
      "source": [
        "# Define a question-answering chain"
      ],
      "metadata": {
        "id": "WZA0pIC2XIsf"
      }
    },
    {
      "cell_type": "code",
      "source": [
        "## QA Chain\n",
        "def retriever_qa(file, query):\n",
        "    llm = get_llm()\n",
        "    retriever_obj = retriever(file)\n",
        "    qa = RetrievalQA.from_chain_type(llm=llm,\n",
        "                                    chain_type=\"stuff\",\n",
        "                                    retriever=retriever_obj,\n",
        "                                    return_source_documents=False)\n",
        "    response = qa.invoke(query)\n",
        "    return response['result']"
      ],
      "metadata": {
        "id": "6q5tytxLXLTm"
      },
      "execution_count": 14,
      "outputs": []
    },
    {
      "cell_type": "markdown",
      "source": [
        "# Set up the Gradio interface"
      ],
      "metadata": {
        "id": "nVTP9pqqXYuu"
      }
    },
    {
      "cell_type": "code",
      "source": [
        "# Create Gradio interface\n",
        "rag_application = gr.Interface(\n",
        "    fn=retriever_qa,\n",
        "    allow_flagging=\"never\",\n",
        "    inputs=[\n",
        "        gr.File(label=\"Upload PDF File\", file_count=\"single\", file_types=['.pdf'], type=\"filepath\"),  # Drag and drop file upload\n",
        "        gr.Textbox(label=\"Input Query\", lines=2, placeholder=\"Type your question here...\")\n",
        "    ],\n",
        "    outputs=gr.Textbox(label=\"Output\"),\n",
        "    title=\"RAG Chatbot\",\n",
        "    description=\"Upload a PDF document and ask any question. The chatbot will try to answer using the provided document.\"\n",
        ")"
      ],
      "metadata": {
        "id": "_TLjbjVtXa4e"
      },
      "execution_count": 15,
      "outputs": []
    },
    {
      "cell_type": "markdown",
      "source": [
        "# Add code to launch the application"
      ],
      "metadata": {
        "id": "Edc-eOjfXk7e"
      }
    },
    {
      "cell_type": "code",
      "source": [
        "# Launch the app\n",
        "rag_application.launch(server_name=\"0.0.0.0\", server_port= 7860)"
      ],
      "metadata": {
        "id": "rZJ92FTxXnNg"
      },
      "execution_count": null,
      "outputs": []
    }
  ]
}